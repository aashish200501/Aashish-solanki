{
  "nbformat": 4,
  "nbformat_minor": 0,
  "metadata": {
    "colab": {
      "provenance": []
    },
    "kernelspec": {
      "name": "python3",
      "display_name": "Python 3"
    },
    "language_info": {
      "name": "python"
    }
  },
  "cells": [
    {
      "cell_type": "code",
      "execution_count": 1,
      "metadata": {
        "colab": {
          "base_uri": "https://localhost:8080/"
        },
        "id": "kdY6BG7cu0F-",
        "outputId": "456dcec5-741a-44a4-8630-7cb02fbde22a"
      },
      "outputs": [
        {
          "output_type": "stream",
          "name": "stdout",
          "text": [
            "HELLO,WORLD\n"
          ]
        }
      ],
      "source": [
        "print(\"HELLO,WORLD\")"
      ]
    },
    {
      "cell_type": "code",
      "source": [
        "a=5\n",
        "b=6.5\n",
        "#Addition\n",
        "c=a+b\n",
        "print(\"the sum of two number is \",c)"
      ],
      "metadata": {
        "colab": {
          "base_uri": "https://localhost:8080/"
        },
        "id": "R_Tk3z9hxFx5",
        "outputId": "53258022-fada-492c-ab5f-5d5d34924210"
      },
      "execution_count": 3,
      "outputs": [
        {
          "output_type": "stream",
          "name": "stdout",
          "text": [
            "the sum of two number is  11.5\n"
          ]
        }
      ]
    },
    {
      "cell_type": "code",
      "source": [
        "j=float(input(\"enter first number\"))\n",
        "k=float(input(\"enter second number\"))\n",
        "l=j*k\n",
        "print(\"the sum of two number is\",l)"
      ],
      "metadata": {
        "colab": {
          "base_uri": "https://localhost:8080/"
        },
        "id": "-I6e4tRl1vwa",
        "outputId": "055a3d39-9cce-44e9-d694-091fd4360ae9"
      },
      "execution_count": 6,
      "outputs": [
        {
          "output_type": "stream",
          "name": "stdout",
          "text": [
            "enter first number99\n",
            "enter second number98\n",
            "the sum of two number is 9702.0\n"
          ]
        }
      ]
    }
  ]
}